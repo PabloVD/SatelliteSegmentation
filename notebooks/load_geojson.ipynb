{
 "cells": [
  {
   "cell_type": "code",
   "execution_count": 1,
   "id": "d63ec1a8-45f2-4517-b7b6-f1a2c8940b2b",
   "metadata": {},
   "outputs": [
    {
     "data": {
      "application/vnd.jupyter.widget-view+json": {
       "model_id": "21e169e6f97543939f90342aaa3c315b",
       "version_major": 2,
       "version_minor": 0
      },
      "text/plain": [
       "Map(center=[41.49796617900115, 2.1059254347492966], controls=(ZoomControl(options=['position', 'zoom_in_text',…"
      ]
     },
     "execution_count": 1,
     "metadata": {},
     "output_type": "execute_result"
    }
   ],
   "source": [
    "import leafmap\n",
    "import geopandas as gpd\n",
    "\n",
    "# Load the GeoJSON\n",
    "#gdf = gpd.read_file(\"/home/tda/CARLA/DigitalTwins/DigitalTwinsProject/Plugins/carla-digitaltwins/pyoutputs/masks.geojson\")\n",
    "#gdf = gpd.read_file(\"../lanes_sanvicent.geojson\")\n",
    "gdf = gpd.read_file(\"../examples/lanes_uab.geojson\")\n",
    "\n",
    "centroid = gdf.unary_union.centroid\n",
    "lat, lon = centroid.y, centroid.x\n",
    "\n",
    "# Create a map centered on the data\n",
    "m = leafmap.Map(center=(lat, lon), zoom=18)\n",
    "m.add_basemap(\"SATELLITE\")\n",
    "\n",
    "# Add the GeoJSON layer\n",
    "m.add_gdf(gdf, layer_name=\"Segmentation\")\n",
    "\n",
    "# Display the map\n",
    "m\n"
   ]
  },
  {
   "cell_type": "code",
   "execution_count": null,
   "id": "4711f4da",
   "metadata": {},
   "outputs": [],
   "source": []
  }
 ],
 "metadata": {
  "kernelspec": {
   "display_name": "segmenter",
   "language": "python",
   "name": "segmenter"
  },
  "language_info": {
   "codemirror_mode": {
    "name": "ipython",
    "version": 3
   },
   "file_extension": ".py",
   "mimetype": "text/x-python",
   "name": "python",
   "nbconvert_exporter": "python",
   "pygments_lexer": "ipython3",
   "version": "3.13.0"
  }
 },
 "nbformat": 4,
 "nbformat_minor": 5
}
